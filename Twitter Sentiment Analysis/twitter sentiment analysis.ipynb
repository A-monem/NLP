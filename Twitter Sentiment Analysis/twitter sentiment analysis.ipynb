{
 "cells": [
  {
   "cell_type": "code",
   "execution_count": 19,
   "metadata": {},
   "outputs": [],
   "source": [
    "import tweepy\n",
    "from textblob import TextBlob\n",
    "import re\n",
    "import pandas as pd"
   ]
  },
  {
   "cell_type": "code",
   "execution_count": 20,
   "metadata": {},
   "outputs": [],
   "source": [
    "class TwitterClient():\n",
    "    \n",
    "    def __init__(self):\n",
    "        \n",
    "        consumer_key = 'XXXXXXXXXXXXXXXXXXXXXXXX'\n",
    "        consumer_secret = 'XXXXXXXXXXXXXXXXXXXXXXXXXXXX'\n",
    "        access_token = 'XXXXXXXXXXXXXXXXXXXXXXXXXXXX'\n",
    "        access_token_secret = 'XXXXXXXXXXXXXXXXXXXXXXXXX'\n",
    "\n",
    "        try:\n",
    "            auth = tweepy.OAuthHandler(consumer_key, consumer_secret) \n",
    "            auth.set_access_token(access_token, access_token_secret)\n",
    "            self.api = tweepy.API(auth)\n",
    "        except:\n",
    "            print(\"authentication failed!!\")\n",
    "            \n",
    "    def clean_tweet(self, tweet):\n",
    "        return \" \".join(re.sub(\"(@[a-zA-Z0-9]+)|([^0-9A-Za-z \\t])|(\\w+:\\/\\/\\S+)|([RT])\", \" \", tweet).split())\n",
    "            \n",
    "    def get_tweets(self, query, count):\n",
    "        \n",
    "        tweets=[]\n",
    "        \n",
    "        search_tweets = self.api.search(q = query, count=count)\n",
    "        for tweet in search_tweets:\n",
    "            tweets.append(self.clean_tweet(tweet.text))\n",
    "            \n",
    "        return tweets\n",
    "    \n",
    "    def get_sentiments(self, tweets):\n",
    "        \n",
    "        sentiment = []\n",
    "\n",
    "        for tweet in tweets:\n",
    "            analysis = TextBlob(tweet)\n",
    "            \n",
    "            if analysis.polarity < 0:\n",
    "                sentiment.append(\"negative\")\n",
    "            elif analysis.polarity > 0:\n",
    "                sentiment.append(\"positive\")\n",
    "            else:\n",
    "                sentiment.append(\"neutral\")\n",
    "        \n",
    "        return sentiment\n",
    "       "
   ]
  },
  {
   "cell_type": "code",
   "execution_count": 21,
   "metadata": {},
   "outputs": [],
   "source": [
    "tweet_API = TwitterClient()\n",
    "tweets = tweet_API.get_tweets(\"trump\", 50)\n",
    "sentiments = tweet_API.get_sentiments(tweets)"
   ]
  },
  {
   "cell_type": "code",
   "execution_count": 22,
   "metadata": {},
   "outputs": [],
   "source": [
    "df_twt_sentiment = pd.DataFrame()\n",
    "df_twt_sentiment['tweets'] = tweets\n",
    "df_twt_sentiment['sentiments'] = sentiments"
   ]
  },
  {
   "cell_type": "code",
   "execution_count": 24,
   "metadata": {},
   "outputs": [],
   "source": [
    "df_twt_sentiment.to_csv(path_or_buf='P:/Data Science/tweets_sentiments.csv', index=False)"
   ]
  },
  {
   "cell_type": "code",
   "execution_count": null,
   "metadata": {},
   "outputs": [],
   "source": []
  }
 ],
 "metadata": {
  "kernelspec": {
   "display_name": "Python 3",
   "language": "python",
   "name": "python3"
  },
  "language_info": {
   "codemirror_mode": {
    "name": "ipython",
    "version": 3
   },
   "file_extension": ".py",
   "mimetype": "text/x-python",
   "name": "python",
   "nbconvert_exporter": "python",
   "pygments_lexer": "ipython3",
   "version": "3.6.6"
  }
 },
 "nbformat": 4,
 "nbformat_minor": 2
}
